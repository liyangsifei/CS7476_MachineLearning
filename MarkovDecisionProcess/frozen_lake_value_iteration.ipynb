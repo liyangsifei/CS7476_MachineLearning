{
 "cells": [
  {
   "cell_type": "code",
   "execution_count": 23,
   "metadata": {},
   "outputs": [],
   "source": [
    "import gym\n",
    "import numpy as np\n",
    "import time\n",
    "import matplotlib.pyplot as plt\n",
    "from seaborn import *"
   ]
  },
  {
   "cell_type": "code",
   "execution_count": 24,
   "metadata": {},
   "outputs": [
    {
     "name": "stdout",
     "output_type": "stream",
     "text": [
      "64\n",
      "4\n"
     ]
    }
   ],
   "source": [
    "env = gym.make('FrozenLake8x8-v0')\n",
    "\n",
    "n_state = env.nS\n",
    "n_action = env.nA\n",
    "\n",
    "print(n_state)\n",
    "print(n_action)"
   ]
  },
  {
   "cell_type": "code",
   "execution_count": 25,
   "metadata": {},
   "outputs": [],
   "source": [
    "def plot_graph(param, curves, param_name=\"\", curve_name=\"\"):\n",
    "    colors = ['deepskyblue', 'red', 'yellow', 'green', 'midnightblue', 'fuchsia']\n",
    "    plt.figure()\n",
    "    lines = []\n",
    "    l, = plt.plot(param, curves, ls='-', marker='+', color='deepskyblue')\n",
    "    lines.append(l)\n",
    "    plt.xlabel(param_name)\n",
    "    plt.ylabel(curve_name)\n",
    "    \n",
    "    plt.show()"
   ]
  },
  {
   "cell_type": "code",
   "execution_count": 26,
   "metadata": {},
   "outputs": [],
   "source": [
    "def plot_graphs(param, curves, curve_labels, param_name=\"\", curve_name=\"\"):\n",
    "    colors = ['firebrick', 'cadetblue', 'darksalmon', 'mediumseagreen', 'darkmagenta', 'skyblue', \n",
    "              'gold','palevioletred', 'olive', 'darkorange', 'mediumpurple', 'slategray', 'darkseagreen']\n",
    "    plt.figure()\n",
    "    lines = []\n",
    "    for i in range(len(curve_labels)):\n",
    "        l, = plt.plot(param, curves[i,:], ls='-', marker='', color=colors[i])\n",
    "        lines.append(l)\n",
    "    plt.xlabel(param_name)\n",
    "    plt.ylabel(curve_name)\n",
    "    \n",
    "    plt.legend(handles=lines, labels=curve_labels, loc='best')\n",
    "    plt.show()"
   ]
  },
  {
   "cell_type": "markdown",
   "metadata": {},
   "source": [
    "Value Iteration"
   ]
  },
  {
   "cell_type": "code",
   "execution_count": 27,
   "metadata": {},
   "outputs": [],
   "source": [
    "def eval_state_action(state_value, s, a, gamma=0.9):\n",
    "    return np.sum([prob * (reward + gamma * state_value[next_state]) for prob, next_state, reward, _ in env.P[s][a] ])"
   ]
  },
  {
   "cell_type": "code",
   "execution_count": 28,
   "metadata": {},
   "outputs": [],
   "source": [
    "def check_convergence(state_value, new_state_value, delta_state, eps, algo):\n",
    "    if algo == 0:\n",
    "        if abs(sum(state_value) - sum(new_state_value)) < eps:\n",
    "            state_value = state_value\n",
    "        else:\n",
    "            state_value = new_state_value.copy()\n",
    "\n",
    "    elif algo == 1:\n",
    "        for d in range(n_state):\n",
    "            converged = True\n",
    "            if delta_state[d] > eps:\n",
    "                converged = False\n",
    "        if converged:\n",
    "            state_value = state_value\n",
    "        else :\n",
    "            state_value = new_state_value.copy()\n",
    "    return state_value"
   ]
  },
  {
   "cell_type": "code",
   "execution_count": 29,
   "metadata": {},
   "outputs": [],
   "source": [
    "def value_one_iteration(state_value, gamma=0.9, eps=0.0001, conv=0):\n",
    "    new_state_value = state_value.copy()\n",
    "    \n",
    "    delta_state = np.zeros(n_state)\n",
    "    converged = False\n",
    "    \n",
    "    for state in range(n_state):\n",
    "        all_a_values = []\n",
    "        for action in range(n_action):\n",
    "            tmp_st_val = eval_state_action(state_value, state, action, gamma)\n",
    "            all_a_values.append(tmp_st_val)\n",
    "        best_a = np.argmax(np.asarray(all_a_values))\n",
    "        new_state_value[state] = all_a_values[best_a]\n",
    "            \n",
    "        delta_state[state] = np.abs(new_state_value[state] - state_value[state])\n",
    "\n",
    "    state_value = check_convergence(state_value, new_state_value, \n",
    "                                    delta_state, eps, algo=conv)\n",
    "    \n",
    "    return state_value"
   ]
  },
  {
   "cell_type": "code",
   "execution_count": 30,
   "metadata": {},
   "outputs": [],
   "source": [
    "def value_iteration(max_iterations=100000, gamma=0.9, eps=0.0001, conv=0):\n",
    "    state_value = np.zeros(n_state)\n",
    "    new_state_value = state_value.copy()\n",
    "    \n",
    "    delta_state = np.zeros(n_state)\n",
    "    converged = False\n",
    "    it_converged = 0\n",
    "    conv_time = 0\n",
    "    \n",
    "    start_time = time.time()\n",
    "    \n",
    "    for i in range(max_iterations):\n",
    "        for state in range(n_state):\n",
    "            all_a_values = []\n",
    "            for action in range(n_action):\n",
    "                tmp_st_val = eval_state_action(state_value, state, action, gamma)\n",
    "                all_a_values.append(tmp_st_val)\n",
    "            best_a = np.argmax(np.asarray(all_a_values))\n",
    "            new_state_value[state] = all_a_values[best_a]\n",
    "            \n",
    "            delta_state[state] = np.abs(new_state_value[state] - state_value[state])\n",
    "\n",
    "        if conv == 0:\n",
    "            if abs(sum(state_value) - sum(new_state_value)) < eps:\n",
    "                conv_time = time.time() - start_time\n",
    "                it_converged = i+1\n",
    "                break\n",
    "            else:\n",
    "                state_value = new_state_value.copy()\n",
    "        elif conv == 1:\n",
    "            converged = True\n",
    "            for d in range(n_state):\n",
    "                if delta_state[d] > eps:\n",
    "                    converged = False\n",
    "            if converged:\n",
    "                it_converged = i+1\n",
    "                conv_time = time.time() - start_time\n",
    "                break\n",
    "            else :\n",
    "                state_value = new_state_value.copy()\n",
    "    \n",
    "    print(\"max iter:\", max_iterations, \"gamma:\", gamma, \", conv iter:\", it_converged, \", conv time:\", conv_time)\n",
    "    return state_value"
   ]
  },
  {
   "cell_type": "code",
   "execution_count": 31,
   "metadata": {},
   "outputs": [],
   "source": [
    "def get_policy(state_value, gamma=0.9):\n",
    "    policy = np.zeros(n_state)\n",
    "    \n",
    "    for state in range(n_state):\n",
    "        all_a_values = []\n",
    "        for action in range(n_action):\n",
    "            tmp_st_val = eval_state_action(state_value, state, action, gamma)\n",
    "            all_a_values.append(tmp_st_val)\n",
    "        best_a = np.argmax(np.asarray(all_a_values))\n",
    "        policy[state] = best_a\n",
    "    \n",
    "    return policy"
   ]
  },
  {
   "cell_type": "code",
   "execution_count": 32,
   "metadata": {},
   "outputs": [],
   "source": [
    "def get_scores(policy, episodes=1000):\n",
    "    misses = 0\n",
    "    steps_list = []\n",
    "    \n",
    "    for episode in range(episodes):\n",
    "        observation = env.reset()\n",
    "        steps = 0\n",
    "        while True:\n",
    "            action = policy[observation]\n",
    "            observation, reward, done, info = env.step(action)\n",
    "            steps += 1\n",
    "            if done and reward == 1:\n",
    "                steps_list.append(steps)\n",
    "                break\n",
    "            elif done and reward == 0:\n",
    "                misses += 1\n",
    "                break\n",
    "    mean_steps = np.mean(steps_list)\n",
    "    per_misses = (misses/episodes) * 100\n",
    "    return mean_steps, per_misses"
   ]
  },
  {
   "cell_type": "code",
   "execution_count": 33,
   "metadata": {},
   "outputs": [],
   "source": [
    "def run_iterations(gamma, eps, max_iter):\n",
    "    iterations = np.arange(1, max_iter+1)\n",
    "    \n",
    "    state_values = np.zeros(n_state)\n",
    "    tot_V = []\n",
    "    \n",
    "    for i in iterations:\n",
    "        state_values = value_one_iteration(state_values, gamma=gamma, eps=eps, conv=0)\n",
    "        tot_V.append(np.sum(state_values, axis=0))\n",
    "    \n",
    "    return tot_V"
   ]
  },
  {
   "cell_type": "code",
   "execution_count": 34,
   "metadata": {},
   "outputs": [],
   "source": [
    "max_iterations_gamma = 60\n",
    "gamma_list = np.arange(0.1, 1.1, 0.1)\n",
    "tot_V_gammas = np.zeros((len(gamma_list), max_iterations_gamma))\n",
    "i = 0\n",
    "for g in gamma_list:\n",
    "    tot_V_gammas[i,:] = run_iterations(gamma=g, eps=0.0001, max_iter=max_iterations_gamma)\n",
    "    i += 1"
   ]
  },
  {
   "cell_type": "code",
   "execution_count": 35,
   "metadata": {},
   "outputs": [
    {
     "data": {
      "image/png": "[encoded data removed]",
      "text/plain": [
       "<Figure size 432x288 with 1 Axes>"
      ]
     },
     "metadata": {
      "needs_background": "light"
     },
     "output_type": "display_data"
    }
   ],
   "source": [
    "plot_graphs(range(1, max_iterations_gamma+1), tot_V_gammas, \n",
    "            [\"0.1\",\"0.2\",\"0.3\",\"0.4\",\"0.5\",\"0.6\",\"0.7\",\"0.8\",\"0.9\"], \n",
    "            param_name=\"iterations\", curve_name=\"value sum\")"
   ]
  },
  {
   "cell_type": "code",
   "execution_count": 36,
   "metadata": {},
   "outputs": [
    {
     "data": {
      "image/png": "[encoded data removed]",
      "text/plain": [
       "<Figure size 432x288 with 1 Axes>"
      ]
     },
     "metadata": {
      "needs_background": "light"
     },
     "output_type": "display_data"
    }
   ],
   "source": [
    "plot_graphs(range(1,max_iterations_gamma+1), tot_V_gammas, \n",
    "            [\"0.1\",\"0.2\",\"0.3\",\"0.4\",\"0.5\",\"0.6\",\"0.7\",\"0.8\",\"0.9\",\"1.0\"], \n",
    "            param_name=\"iterations\", curve_name=\"value sum\")"
   ]
  },
  {
   "cell_type": "code",
   "execution_count": 37,
   "metadata": {},
   "outputs": [],
   "source": [
    "max_iterations_epsilon = 50\n",
    "epsilon_list = [0.0001, 0.0005, 0.001, 0.005, 0.01, 0.05, 0.1]\n",
    "tot_V_eps = np.zeros((len(epsilon_list), max_iterations_epsilon))\n",
    "i = 0\n",
    "for e in epsilon_list:\n",
    "    tot_V_eps[i,:] = run_iterations(gamma=0.9, eps=e, max_iter=max_iterations_epsilon)\n",
    "    i += 1"
   ]
  },
  {
   "cell_type": "code",
   "execution_count": 38,
   "metadata": {},
   "outputs": [
    {
     "data": {
      "image/png": "[encoded data removed]",
      "text/plain": [
       "<Figure size 432x288 with 1 Axes>"
      ]
     },
     "metadata": {
      "needs_background": "light"
     },
     "output_type": "display_data"
    }
   ],
   "source": [
    "plot_graphs(range(1, max_iterations_epsilon+1), tot_V_eps, \n",
    "            [\"0.0001\",\"0.0005\",\"0.001\",\"0.005\",\"0.01\",\"0.05\",\"0.1\"], \n",
    "            param_name=\"iterations\", curve_name=\"value sum\")"
   ]
  },
  {
   "cell_type": "raw",
   "metadata": {},
   "source": [
    "---------------------------- Comparisons ------------------------------------------------------"
   ]
  },
  {
   "cell_type": "code",
   "execution_count": 39,
   "metadata": {},
   "outputs": [
    {
     "name": "stdout",
     "output_type": "stream",
     "text": [
      "max iter: 5000 gamma: 0.1 , conv iter: 5 , conv time: 0.020816802978515625\n",
      "max iter: 5000 gamma: 0.15 , conv iter: 6 , conv time: 0.018938302993774414\n",
      "max iter: 5000 gamma: 0.2 , conv iter: 6 , conv time: 0.020079374313354492\n",
      "max iter: 5000 gamma: 0.25 , conv iter: 7 , conv time: 0.025036334991455078\n",
      "max iter: 5000 gamma: 0.3 , conv iter: 8 , conv time: 0.02559661865234375\n",
      "max iter: 5000 gamma: 0.35 , conv iter: 9 , conv time: 0.027063846588134766\n",
      "max iter: 5000 gamma: 0.4 , conv iter: 10 , conv time: 0.036664485931396484\n",
      "max iter: 5000 gamma: 0.45 , conv iter: 11 , conv time: 0.03855085372924805\n",
      "max iter: 5000 gamma: 0.5 , conv iter: 13 , conv time: 0.045717477798461914\n",
      "max iter: 5000 gamma: 0.55 , conv iter: 15 , conv time: 0.05197262763977051\n",
      "max iter: 5000 gamma: 0.6 , conv iter: 17 , conv time: 0.05154585838317871\n",
      "max iter: 5000 gamma: 0.65 , conv iter: 20 , conv time: 0.06279778480529785\n",
      "max iter: 5000 gamma: 0.7 , conv iter: 24 , conv time: 0.08285069465637207\n",
      "max iter: 5000 gamma: 0.75 , conv iter: 30 , conv time: 0.10689425468444824\n",
      "max iter: 5000 gamma: 0.8 , conv iter: 38 , conv time: 0.13086843490600586\n",
      "max iter: 5000 gamma: 0.85 , conv iter: 51 , conv time: 0.16515755653381348\n",
      "max iter: 5000 gamma: 0.9 , conv iter: 75 , conv time: 0.261110782623291\n",
      "max iter: 5000 gamma: 0.95 , conv iter: 127 , conv time: 0.43575477600097656\n",
      "max iter: 5000 gamma: 1 , conv iter: 654 , conv time: 2.4064035415649414\n"
     ]
    }
   ],
   "source": [
    "vi_gamma_list = [0.1, 0.15, 0.2, 0.25, 0.3, 0.35, 0.4, 0.45, 0.5, \n",
    "                 0.55, 0.6, 0.65, 0.7, 0.75, 0.8, 0.85, 0.9, 0.95, 1]\n",
    "l_vi_gamma_list = len(vi_gamma_list)\n",
    "\n",
    "# vi_mean_steps, vi_per_misses\n",
    "scores_test_vi_gamma = np.zeros((2, l_vi_gamma_list))\n",
    "for i in range(l_vi_gamma_list):\n",
    "    vi_state_values = np.zeros(n_state)\n",
    "    vi_state_values = value_iteration(max_iterations=5000, eps=0.0001, gamma=vi_gamma_list[i], conv=0)\n",
    "    vi_policy = get_policy(vi_state_values)\n",
    "    scores_test_vi_gamma[:, i] = get_scores(vi_policy, episodes=1000)"
   ]
  },
  {
   "cell_type": "code",
   "execution_count": 40,
   "metadata": {},
   "outputs": [
    {
     "data": {
      "image/png": "[encoded data removed]",
      "text/plain": [
       "<Figure size 432x288 with 1 Axes>"
      ]
     },
     "metadata": {
      "needs_background": "light"
     },
     "output_type": "display_data"
    }
   ],
   "source": [
    "plot_graphs(vi_gamma_list, scores_test_vi_gamma, [\"mean steps\", \"miss percentage\"], param_name=\"gamma\", curve_name=\"scores\")"
   ]
  },
  {
   "cell_type": "code",
   "execution_count": 41,
   "metadata": {},
   "outputs": [
    {
     "name": "stdout",
     "output_type": "stream",
     "text": [
      "max iter: 100000 gamma: 0.9 , conv iter: 11 , conv time: 0.04292702674865723\n",
      "max iter: 100000 gamma: 0.9 , conv iter: 18 , conv time: 0.06662130355834961\n",
      "max iter: 100000 gamma: 0.9 , conv iter: 35 , conv time: 0.11722970008850098\n",
      "max iter: 100000 gamma: 0.9 , conv iter: 42 , conv time: 0.14623475074768066\n",
      "max iter: 100000 gamma: 0.9 , conv iter: 56 , conv time: 0.19108295440673828\n",
      "max iter: 100000 gamma: 0.9 , conv iter: 62 , conv time: 0.21381092071533203\n",
      "max iter: 100000 gamma: 0.9 , conv iter: 75 , conv time: 0.2602114677429199\n"
     ]
    }
   ],
   "source": [
    "vi_eps_list = [0.1, 0.05, 0.01, 0.005, 0.001, 0.0005, 0.0001]\n",
    "l_vi_eps_list = len(vi_eps_list)\n",
    "\n",
    "# vi_mean_steps, vi_per_misses\n",
    "scores_test_vi_eps = np.zeros((2, l_vi_eps_list))\n",
    "for i in range(l_vi_eps_list):\n",
    "    vi_state_values = np.zeros(n_state)\n",
    "    vi_state_values = value_iteration(max_iterations=100000, eps=vi_eps_list[i], gamma=0.9)\n",
    "    vi_policy = get_policy(vi_state_values)\n",
    "    scores_test_vi_eps[:, i] = get_scores(vi_policy, episodes=1000)"
   ]
  },
  {
   "cell_type": "code",
   "execution_count": 52,
   "metadata": {},
   "outputs": [
    {
     "data": {
      "text/plain": [
       "array([[83.47619048, 70.32160804, 70.90317919, 70.48787062, 72.77520436,\n",
       "        74.96419098, 72.33641161],\n",
       "       [95.8       , 40.3       , 30.8       , 25.8       , 26.6       ,\n",
       "        24.6       , 24.2       ]])"
      ]
     },
     "execution_count": 52,
     "metadata": {},
     "output_type": "execute_result"
    }
   ],
   "source": [
    "scores_test_vi_eps"
   ]
  },
  {
   "cell_type": "code",
   "execution_count": 42,
   "metadata": {
    "scrolled": true
   },
   "outputs": [
    {
     "data": {
      "image/png": "[encoded data removed]",
      "text/plain": [
       "<Figure size 432x288 with 1 Axes>"
      ]
     },
     "metadata": {
      "needs_background": "light"
     },
     "output_type": "display_data"
    }
   ],
   "source": [
    "plot_graphs(vi_eps_list, scores_test_vi_eps, [\"mean steps\", \"miss percentage\"], param_name=\"epsilon\", curve_name=\"test\")"
   ]
  },
  {
   "cell_type": "code",
   "execution_count": null,
   "metadata": {},
   "outputs": [],
   "source": []
  }
 ],
 "metadata": {
  "kernelspec": {
   "display_name": "Python 3",
   "language": "python",
   "name": "python3"
  },
  "language_info": {
   "codemirror_mode": {
    "name": "ipython",
    "version": 3
   },
   "file_extension": ".py",
   "mimetype": "text/x-python",
   "name": "python",
   "nbconvert_exporter": "python",
   "pygments_lexer": "ipython3",
   "version": "3.7.4"
  }
 },
 "nbformat": 4,
 "nbformat_minor": 2
}
